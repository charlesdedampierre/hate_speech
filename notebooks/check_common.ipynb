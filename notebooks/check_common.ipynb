{
 "cells": [
  {
   "cell_type": "code",
   "execution_count": 6,
   "id": "52252aa1-88de-4806-ac1d-5a5e8aaa925c",
   "metadata": {
    "tags": []
   },
   "outputs": [],
   "source": [
    "import pandas as pd\n",
    "\n",
    "from dotenv import load_dotenv\n",
    "import os\n",
    "\n",
    "load_dotenv()\n",
    "\n",
    "RESULTS_PATH = os.getenv(\"RESULTS_PATH\")\n",
    "RESULTS_PATH = '../' + RESULTS_PATH"
   ]
  },
  {
   "cell_type": "code",
   "execution_count": 7,
   "id": "81af7c05-b6b5-410f-939d-5997405032aa",
   "metadata": {
    "tags": []
   },
   "outputs": [],
   "source": [
    "df = pd.read_csv(RESULTS_PATH + \"/annotations/clean_annotations.csv\", index_col=[0])"
   ]
  },
  {
   "cell_type": "code",
   "execution_count": null,
   "id": "be6a2eb0-aac7-43bd-b4a3-ea83c6d17674",
   "metadata": {
    "tags": []
   },
   "outputs": [],
   "source": []
  },
  {
   "cell_type": "code",
   "execution_count": 65,
   "id": "7106afb4-1cfd-4bd3-98c5-96fea28110f8",
   "metadata": {
    "tags": []
   },
   "outputs": [],
   "source": [
    "grouped = df.groupby(\"annotateur\")[\"comment_id\"].apply(list)\n",
    "common_ids = list(set.intersection(*map(set, grouped)))\n",
    "\n",
    "df_common = df[df[\"comment_id\"].isin(common_ids)]\n",
    "df_common = df_common[['comment_id', 'annotateur', 'islamophobie']]\n",
    "df_common = df_common.drop_duplicates()\n",
    "df_common = df_common.pivot(index = 'comment_id', columns = 'annotateur', values = 'islamophobie')"
   ]
  },
  {
   "cell_type": "code",
   "execution_count": 66,
   "id": "327a7a12-3109-4438-81e6-a8397f393fe9",
   "metadata": {
    "tags": []
   },
   "outputs": [],
   "source": [
    "from sklearn.metrics import accuracy_score"
   ]
  },
  {
   "cell_type": "code",
   "execution_count": 67,
   "id": "3d6d3ee7-a919-4dc4-b1a7-f2c69b5f6cef",
   "metadata": {
    "tags": []
   },
   "outputs": [],
   "source": [
    "coder_1 = list(df_common['Benjamin'])\n",
    "coder_2 = list(df_common['Charles'])\n",
    "coder_3 = list(df_common['Florian'])"
   ]
  },
  {
   "cell_type": "code",
   "execution_count": 68,
   "id": "1e74b19a-1af0-4080-9bb5-bf74fafe3c98",
   "metadata": {
    "tags": []
   },
   "outputs": [],
   "source": [
    "from sklearn.metrics import cohen_kappa_score"
   ]
  },
  {
   "cell_type": "code",
   "execution_count": 70,
   "id": "13c2e66d-b355-4727-82bd-f54053f478ab",
   "metadata": {
    "tags": []
   },
   "outputs": [
    {
     "data": {
      "text/plain": [
       "0.92"
      ]
     },
     "execution_count": 70,
     "metadata": {},
     "output_type": "execute_result"
    }
   ],
   "source": [
    "#cohen_kappa_score(coder_2, coder_3)\n",
    "accuracy_score(coder_2, coder_3)"
   ]
  },
  {
   "cell_type": "code",
   "execution_count": null,
   "id": "76cfac0e-fe54-4def-8c0e-ace38360fbbf",
   "metadata": {},
   "outputs": [],
   "source": []
  },
  {
   "cell_type": "code",
   "execution_count": null,
   "id": "a4b211ac-8807-4ac9-a32d-d24d0ef1dde2",
   "metadata": {},
   "outputs": [],
   "source": [
    "df_common = df_common.drop_duplicates().reset_index(drop=True)\n",
    "df_common = df_common[['comment_id']].drop_duplicates()"
   ]
  },
  {
   "cell_type": "code",
   "execution_count": null,
   "id": "64bc3325-8680-49c3-a789-9e13b49461f7",
   "metadata": {},
   "outputs": [],
   "source": []
  },
  {
   "cell_type": "code",
   "execution_count": 25,
   "id": "df892291-97e5-4cc8-87fc-6c44119757ee",
   "metadata": {
    "tags": []
   },
   "outputs": [],
   "source": [
    "data_hate = pd.read_csv(RESULTS_PATH + \"/data_hate.csv\", index_col = [0])\n",
    "data_hate['hate'] = 1\n",
    "data_hate = data_hate[['comment_id', 'hate']]"
   ]
  },
  {
   "cell_type": "code",
   "execution_count": 29,
   "id": "825bfc0b-6129-45e4-8040-212161fb2091",
   "metadata": {
    "tags": []
   },
   "outputs": [],
   "source": [
    "df_final = pd.merge(df_common, data_hate, on = 'comment_id', how = 'left')\n",
    "df_final  = df_final.fillna(0)"
   ]
  },
  {
   "cell_type": "code",
   "execution_count": 31,
   "id": "6fcbb382-ba14-44b5-a766-1e4547e93271",
   "metadata": {
    "tags": []
   },
   "outputs": [
    {
     "data": {
      "text/plain": [
       "1.0    30\n",
       "0.0    20\n",
       "Name: hate, dtype: int64"
      ]
     },
     "execution_count": 31,
     "metadata": {},
     "output_type": "execute_result"
    }
   ],
   "source": [
    "df_final.hate.value_counts()"
   ]
  },
  {
   "cell_type": "code",
   "execution_count": null,
   "id": "7a8b2417-4e47-4483-b915-5760efceb127",
   "metadata": {},
   "outputs": [],
   "source": []
  },
  {
   "cell_type": "code",
   "execution_count": null,
   "id": "cb59bc9d-f54f-411c-a6b5-2dcc84c9df9c",
   "metadata": {
    "tags": []
   },
   "outputs": [],
   "source": []
  }
 ],
 "metadata": {
  "kernelspec": {
   "display_name": "Python 3 (ipykernel)",
   "language": "python",
   "name": "python3"
  },
  "language_info": {
   "codemirror_mode": {
    "name": "ipython",
    "version": 3
   },
   "file_extension": ".py",
   "mimetype": "text/x-python",
   "name": "python",
   "nbconvert_exporter": "python",
   "pygments_lexer": "ipython3",
   "version": "3.8.17"
  }
 },
 "nbformat": 4,
 "nbformat_minor": 5
}
